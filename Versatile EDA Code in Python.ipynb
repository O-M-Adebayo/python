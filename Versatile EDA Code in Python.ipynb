{
 "cells": [
  {
   "cell_type": "markdown",
   "id": "2b1f7a3f",
   "metadata": {
    "slideshow": {
     "slide_type": "notes"
    }
   },
   "source": [
    "# >> Versatile Exploratory Data Analysis Code\n",
    "\n",
    "This code is a set of functions designed to facilitate data exploration and analysis in Python, primarily using the Pandas, Matplotlib, and Seaborn libraries. It offers a comprehensive toolkit for you to gain insights into your data quickly and efficiently.\n",
    "\n",
    "The code starts by importing essential data analysis and visualization libraries, such as Pandas for data manipulation, Matplotlib for plotting, Seaborn for enhanced data visualization, and NumPy for numerical operations.\n",
    "\n",
    "It then defines a series of functions to perform common data analysis tasks:\n",
    "\n",
    "- load_data: This function loads data from a CSV file and returns it as a Pandas DataFrame.\n",
    "\n",
    "- display_head: It displays the first few rows of the DataFrame to provide a quick overview of the dataset's structure.\n",
    "\n",
    "- get_shape: This function prints the dimensions (number of rows and columns) of the DataFrame.\n",
    "\n",
    "- check_missing_values: It identifies and prints the number of missing values in each column of the DataFrame.\n",
    "\n",
    "- drop_missing_values: This function removes rows with missing values from the DataFrame, aiding data cleaning.\n",
    "\n",
    "- get_data_types: It displays the data types of each column in the DataFrame, helping users understand their data's structure.\n",
    "\n",
    "- summary_stats_numeric: This function calculates and displays summary statistics for numerical columns, including mean, standard deviation, and more.\n",
    "\n",
    "- unique_values_categorical: It lists unique values and their frequencies for categorical columns, supporting categorical data exploration.\n",
    "\n",
    "- plot_histograms, plot_boxplots, plot_correlation_matrix, and plot_scatter_plots: These functions generate various plots, including histograms, box plots, correlation matrices, and scatter plots, allowing users to visualize and analyze their data's distribution, relationships, and patterns.\n",
    "\n",
    "Together, these functions provide a robust toolkit for initial data exploration, enabling you to understand your dataset's structure and characteristics."
   ]
  },
  {
   "cell_type": "markdown",
   "id": "239d0f2b",
   "metadata": {
    "slideshow": {
     "slide_type": "subslide"
    }
   },
   "source": [
    "## 1. Importing modules"
   ]
  },
  {
   "cell_type": "code",
   "execution_count": null,
   "id": "f3b8cf92",
   "metadata": {
    "scrolled": true,
    "slideshow": {
     "slide_type": "slide"
    }
   },
   "outputs": [],
   "source": [
    "# Import the pandas library and alias it as 'pd' for convenience.\n",
    "import pandas as pd\n",
    "\n",
    "# Import the matplotlib.pyplot library and alias it as 'plt' for convenience.\n",
    "import matplotlib.pyplot as plt\n",
    "\n",
    "# Import the seaborn library and alias it as 'sns' for convenience.\n",
    "import seaborn as sns\n",
    "\n",
    "# Import the numpy library and alias it as 'np' for convenience.\n",
    "import numpy as np"
   ]
  },
  {
   "cell_type": "markdown",
   "id": "76c8fb6c",
   "metadata": {},
   "source": [
    "## 2. Loading Data"
   ]
  },
  {
   "cell_type": "code",
   "execution_count": null,
   "id": "1de75415",
   "metadata": {
    "scrolled": true,
    "slideshow": {
     "slide_type": "slide"
    }
   },
   "outputs": [],
   "source": [
    "# Define a function called 'load_data' that takes a 'file_path' as its parameter.\n",
    "# This function is used to load data from a CSV file and return it as a DataFrame.\n",
    "\n",
    "def load_data(file_path):\n",
    "    # Use the 'pd.read_csv' function from the pandas library to read the data from the CSV file\n",
    "    # located at the given 'file_path' and store it in the variable 'data'.\n",
    "    data = pd.read_csv(file_path)\n",
    "    \n",
    "    # Return the 'data' as a DataFrame to the caller.\n",
    "    return data"
   ]
  },
  {
   "cell_type": "markdown",
   "id": "49ca9b5c",
   "metadata": {},
   "source": [
    "## 3. Preview first five rows"
   ]
  },
  {
   "cell_type": "code",
   "execution_count": null,
   "id": "82a0856a",
   "metadata": {
    "scrolled": true,
    "slideshow": {
     "slide_type": "slide"
    }
   },
   "outputs": [],
   "source": [
    "# Define a function called 'display_head' that takes 'data' and an optional 'n' parameter.\n",
    "# This function is used to display the first 'n' rows of the provided data.\n",
    "\n",
    "def display_head(data, n=5):\n",
    "    # Print a message indicating that we are displaying the first 'n' rows of the data.\n",
    "    print(f\"First {n} rows of the data:\")\n",
    "    \n",
    "    # Use the 'head' method of the DataFrame 'data' to display the first 'n' rows.\n",
    "    print(data.head(n))"
   ]
  },
  {
   "cell_type": "markdown",
   "id": "a460eb81",
   "metadata": {},
   "source": [
    "## 4. Get Data Shape"
   ]
  },
  {
   "cell_type": "code",
   "execution_count": null,
   "id": "776ba741",
   "metadata": {
    "scrolled": true,
    "slideshow": {
     "slide_type": "slide"
    }
   },
   "outputs": [],
   "source": [
    "# Define a function called 'get_shape' that takes 'data' as its parameter.\n",
    "# This function is used to display the shape (number of rows and columns) of the provided data.\n",
    "\n",
    "def get_shape(data):\n",
    "    # Print a message indicating that we are displaying the shape of the data.\n",
    "    print(\"Shape of the data:\")\n",
    "    \n",
    "    # Use the 'shape' attribute of the DataFrame 'data' to get and print the number of rows and columns.\n",
    "    print(data.shape)"
   ]
  },
  {
   "cell_type": "markdown",
   "id": "ccdb62a3",
   "metadata": {},
   "source": [
    "## 5. Check Missing Values"
   ]
  },
  {
   "cell_type": "code",
   "execution_count": null,
   "id": "edddc245",
   "metadata": {
    "scrolled": true,
    "slideshow": {
     "slide_type": "slide"
    }
   },
   "outputs": [],
   "source": [
    "# Define a function called 'check_missing_values' that takes 'data' as its parameter.\n",
    "# This function is used to count and display the number of missing values in each column of the provided data.\n",
    "\n",
    "def check_missing_values(data):\n",
    "    # Print a message indicating that we are displaying the number of missing values.\n",
    "    print(\"Number of missing values:\")\n",
    "    \n",
    "    # Use the 'isna()' method of the DataFrame 'data' to create a boolean mask\n",
    "    # indicating whether each element in the DataFrame is missing (True) or not (False).\n",
    "    # Then, use the 'sum()' method to count the True values (missing values) in each column and print the result.\n",
    "    print(data.isna().sum())"
   ]
  },
  {
   "cell_type": "markdown",
   "id": "a89b30f4",
   "metadata": {},
   "source": [
    "## 6. Drop Missing Values"
   ]
  },
  {
   "cell_type": "code",
   "execution_count": null,
   "id": "403b49df",
   "metadata": {
    "scrolled": true,
    "slideshow": {
     "slide_type": "slide"
    }
   },
   "outputs": [],
   "source": [
    "# Define a function called 'drop_missing_values' that takes 'data' as its parameter.\n",
    "# This function is used to remove rows with missing values from the provided data.\n",
    "\n",
    "def drop_missing_values(data):\n",
    "    # Use the 'dropna()' method of the DataFrame 'data' to remove rows with missing values,\n",
    "    # and store the resulting DataFrame back in the variable 'data'.\n",
    "    data = data.dropna()\n",
    "    \n",
    "    # Return the modified 'data' DataFrame without missing values to the caller.\n",
    "    return data"
   ]
  },
  {
   "cell_type": "markdown",
   "id": "6aaaa9a7",
   "metadata": {},
   "source": [
    "## 7. Get Data Types"
   ]
  },
  {
   "cell_type": "code",
   "execution_count": null,
   "id": "956a7c4e",
   "metadata": {
    "scrolled": true,
    "slideshow": {
     "slide_type": "slide"
    }
   },
   "outputs": [],
   "source": [
    "# Define a function called 'get_data_types' that takes 'data' as its parameter.\n",
    "# This function is used to display the data types of each column in the provided data.\n",
    "\n",
    "def get_data_types(data):\n",
    "    # Print a message indicating that we are displaying the data types of the columns.\n",
    "    print(\"Data types of the columns:\")\n",
    "    \n",
    "    # Use the 'dtypes' attribute of the DataFrame 'data' to get and print the data types of each column.\n",
    "    print(data.dtypes)"
   ]
  },
  {
   "cell_type": "markdown",
   "id": "62d76d06",
   "metadata": {},
   "source": [
    "## 8. Summary Statistics"
   ]
  },
  {
   "cell_type": "code",
   "execution_count": null,
   "id": "003bcb4e",
   "metadata": {
    "scrolled": true,
    "slideshow": {
     "slide_type": "slide"
    }
   },
   "outputs": [],
   "source": [
    "# Define a function called 'summary_stats_numeric' that takes 'data' as its parameter.\n",
    "# This function is used to display summary statistics for the numerical columns in the provided data.\n",
    "\n",
    "def summary_stats_numeric(data):\n",
    "    # Print a message indicating that we are displaying summary statistics of numerical columns.\n",
    "    print(\"Summary statistics of the numerical columns:\")\n",
    "    \n",
    "    # Use the 'select_dtypes' method with 'include=[np.number]' to select only the numerical columns\n",
    "    # in the DataFrame 'data', and then use 'describe()' to calculate and print summary statistics for those columns.\n",
    "    print(data.select_dtypes(include=[np.number]).describe())"
   ]
  },
  {
   "cell_type": "markdown",
   "id": "914c5dc2",
   "metadata": {},
   "source": [
    "## 9. Unique Value Count"
   ]
  },
  {
   "cell_type": "code",
   "execution_count": null,
   "id": "37f06c8e",
   "metadata": {
    "scrolled": true,
    "slideshow": {
     "slide_type": "slide"
    }
   },
   "outputs": [],
   "source": [
    "# Define a function called 'unique_values_categorical' that takes 'data' as its parameter.\n",
    "# This function is used to display unique values and their frequencies for categorical columns in the provided data.\n",
    "\n",
    "def unique_values_categorical(data):\n",
    "    # Print a message indicating that we are displaying unique values and their frequencies for categorical columns.\n",
    "    print(\"Unique values and their frequencies for categorical columns:\")\n",
    "    \n",
    "    # Iterate through columns that have data type 'object' (categorical columns).\n",
    "    for column in data.select_dtypes(include=[object]):\n",
    "        # Print the name of the current column.\n",
    "        print(column, \":\")\n",
    "        \n",
    "        # Use the 'value_counts()' method to count unique values and their frequencies in the current column,\n",
    "        # and then print the result.\n",
    "        print(data[column].value_counts())\n",
    "        \n",
    "        # Print an empty line for separation between columns.\n",
    "        print()"
   ]
  },
  {
   "cell_type": "markdown",
   "id": "11157fff",
   "metadata": {},
   "source": [
    "## 10. Plot Histogram"
   ]
  },
  {
   "cell_type": "code",
   "execution_count": null,
   "id": "1dd6214a",
   "metadata": {
    "scrolled": true,
    "slideshow": {
     "slide_type": "slide"
    }
   },
   "outputs": [],
   "source": [
    "# Define a function called 'plot_histograms' that takes 'data' as its parameter.\n",
    "# This function is used to plot histograms for the numerical columns in the provided data.\n",
    "\n",
    "def plot_histograms(data):\n",
    "    # Print a message indicating that we are plotting histograms for numerical columns.\n",
    "    print(\"Histograms of the numerical columns:\")\n",
    "    \n",
    "    # Select the numerical columns using 'select_dtypes' and 'include=[np.number]'.\n",
    "    numerical_columns = data.select_dtypes(include=[np.number]).columns\n",
    "    \n",
    "    # Iterate through the numerical columns and create a histogram for each one.\n",
    "    for column in numerical_columns:\n",
    "        # Create a new figure and set its size.\n",
    "        plt.figure(figsize=(4, 3))\n",
    "        \n",
    "        # Use 'sns.histplot' to create a histogram with specified options (e.g., number of bins, KDE, color).\n",
    "        sns.histplot(data[column], bins=20, kde=True, color=\"brown\")\n",
    "        \n",
    "        # Set labels and a title for the plot.\n",
    "        plt.xlabel(\"Value\")\n",
    "        plt.ylabel(\"Count\")\n",
    "        plt.title(f\"Histogram of {column}\")\n",
    "        \n",
    "        # Display the plot.\n",
    "        plt.show()"
   ]
  },
  {
   "cell_type": "markdown",
   "id": "5350b1ed",
   "metadata": {},
   "source": [
    "## 11. Box Plot"
   ]
  },
  {
   "cell_type": "code",
   "execution_count": null,
   "id": "2ce8e8d6",
   "metadata": {
    "scrolled": true,
    "slideshow": {
     "slide_type": "slide"
    }
   },
   "outputs": [],
   "source": [
    "# Define a function called 'plot_boxplots' that takes 'data' as its parameter.\n",
    "# This function is used to plot box plots for the numerical columns in the provided data.\n",
    "\n",
    "def plot_boxplots(data):\n",
    "    # Print a message indicating that we are plotting box plots for numerical columns.\n",
    "    print(\"Box plots of the numerical columns:\")\n",
    "    \n",
    "    # Select the numerical columns using 'select_dtypes' and 'include=[np.number]'.\n",
    "    numerical_columns = data.select_dtypes(include=[np.number]).columns\n",
    "    \n",
    "    # Iterate through the numerical columns and create a box plot for each one.\n",
    "    for column in numerical_columns:\n",
    "        # Create a new figure and set its size.\n",
    "        plt.figure(figsize=(4, 3))\n",
    "        \n",
    "        # Use 'sns.boxplot' to create a box plot for the current numerical column with specified options (e.g., color).\n",
    "        sns.boxplot(x=data[column], color=\"lightgreen\")\n",
    "        \n",
    "        # Customize the plot by setting labels and a title.\n",
    "        plt.xlabel(\"\")\n",
    "        plt.ylabel(\"Value\")\n",
    "        plt.title(f\"Box Plot of {column}\")\n",
    "        \n",
    "        # Display the plot.\n",
    "        plt.show()"
   ]
  },
  {
   "cell_type": "markdown",
   "id": "452c5b6e",
   "metadata": {},
   "source": [
    "## 12. Correlation Analysis"
   ]
  },
  {
   "cell_type": "code",
   "execution_count": null,
   "id": "9ae2fef7",
   "metadata": {
    "slideshow": {
     "slide_type": "slide"
    }
   },
   "outputs": [],
   "source": [
    "# Define a function called 'plot_correlation_matrix' that takes 'data' as its parameter.\n",
    "# This function is used to plot a correlation matrix for the numerical columns in the provided data.\n",
    "\n",
    "def plot_correlation_matrix(data):\n",
    "    # Print a message indicating that we are plotting a correlation matrix for numerical columns.\n",
    "    print(\"Correlation matrix of the numerical columns:\")\n",
    "    \n",
    "    # Calculate the correlation matrix for the numerical columns using 'corr()'.\n",
    "    corr_matrix = data.select_dtypes(include=[np.number]).corr()\n",
    "    \n",
    "    # Create a new figure and set its size.\n",
    "    plt.figure(figsize=(6, 4))\n",
    "    \n",
    "    # Use 'sns.heatmap' to create a heatmap of the correlation matrix with specified options (e.g., colormap, annotations).\n",
    "    sns.heatmap(corr_matrix, cmap=\"coolwarm\", annot=True, fmt=\".2f\", cbar=True)\n",
    "    \n",
    "    # Set a title for the plot.\n",
    "    plt.title(\"Correlation Matrix\")\n",
    "    \n",
    "    # Display the plot.\n",
    "    plt.show()"
   ]
  },
  {
   "cell_type": "markdown",
   "id": "f4b96fe0",
   "metadata": {},
   "source": [
    "## 13. Scatter Plot"
   ]
  },
  {
   "cell_type": "code",
   "execution_count": null,
   "id": "5f0304ee",
   "metadata": {
    "scrolled": true,
    "slideshow": {
     "slide_type": "slide"
    }
   },
   "outputs": [],
   "source": [
    "# Define a function called 'plot_scatter_plots' that takes 'data' and 'target_column' as its parameters.\n",
    "# This function is used to plot scatter plots of the numerical columns against the target variable.\n",
    "\n",
    "def plot_scatter_plots(data, target_column):\n",
    "    # Print a message indicating that we are plotting scatter plots against the target variable.\n",
    "    print(\"Scatter plots of the numerical columns against the target variable:\")\n",
    "    \n",
    "    # Select the numerical columns using 'select_dtypes' and 'include=[np.number]'.\n",
    "    numerical_columns = data.select_dtypes(include=[np.number]).columns\n",
    "    \n",
    "    # Exclude the 'target_column' from the list of numerical columns.\n",
    "    numerical_columns = numerical_columns[numerical_columns != target_column]\n",
    "    \n",
    "    # Iterate through the numerical columns and create a scatter plot for each one against the target variable.\n",
    "    for column in numerical_columns:\n",
    "        # Create a new figure and set its size.\n",
    "        plt.figure(figsize=(4, 3))\n",
    "        \n",
    "        # Use 'sns.scatterplot' to create a scatter plot with specified options (e.g., color palette).\n",
    "        sns.scatterplot(x=column, y=target_column, data=data, hue=column, palette=\"viridis\")\n",
    "        \n",
    "        # Set labels and a title for the plot.\n",
    "        plt.xlabel(column)\n",
    "        plt.ylabel(target_column)\n",
    "        plt.title(f\"Scatter Plot of {column} vs {target_column}\")\n",
    "        \n",
    "        # Adjust the layout and display the plot.\n",
    "        plt.tight_layout()\n",
    "        plt.show()"
   ]
  },
  {
   "cell_type": "code",
   "execution_count": null,
   "id": "27398549",
   "metadata": {
    "scrolled": true,
    "slideshow": {
     "slide_type": "slide"
    }
   },
   "outputs": [],
   "source": [
    "# Example usage:\n",
    "# Load the data\n",
    "data = load_data(\"healthcare-dataset-stroke-data.csv\")"
   ]
  },
  {
   "cell_type": "code",
   "execution_count": null,
   "id": "b3045f5b",
   "metadata": {
    "scrolled": true,
    "slideshow": {
     "slide_type": "slide"
    }
   },
   "outputs": [],
   "source": [
    "# Display the head of the data\n",
    "display_head(data)"
   ]
  },
  {
   "cell_type": "code",
   "execution_count": null,
   "id": "4cb36f88",
   "metadata": {
    "scrolled": true,
    "slideshow": {
     "slide_type": "slide"
    }
   },
   "outputs": [],
   "source": [
    "# Get the shape of the data\n",
    "get_shape(data)"
   ]
  },
  {
   "cell_type": "code",
   "execution_count": null,
   "id": "1ee0fc0d",
   "metadata": {
    "scrolled": true,
    "slideshow": {
     "slide_type": "slide"
    }
   },
   "outputs": [],
   "source": [
    "# Check for missing values\n",
    "check_missing_values(data)"
   ]
  },
  {
   "cell_type": "code",
   "execution_count": null,
   "id": "d7384050",
   "metadata": {
    "scrolled": true,
    "slideshow": {
     "slide_type": "slide"
    }
   },
   "outputs": [],
   "source": [
    "# Drop missing values\n",
    "data = drop_missing_values(data)"
   ]
  },
  {
   "cell_type": "code",
   "execution_count": null,
   "id": "287da9df",
   "metadata": {
    "scrolled": true,
    "slideshow": {
     "slide_type": "slide"
    }
   },
   "outputs": [],
   "source": [
    "# Get the data types of the columns\n",
    "get_data_types(data)"
   ]
  },
  {
   "cell_type": "code",
   "execution_count": null,
   "id": "6caed8da",
   "metadata": {
    "scrolled": true,
    "slideshow": {
     "slide_type": "slide"
    }
   },
   "outputs": [],
   "source": [
    "# Get the summary statistics of the numerical columns\n",
    "summary_stats_numeric(data)"
   ]
  },
  {
   "cell_type": "code",
   "execution_count": null,
   "id": "05344ede",
   "metadata": {
    "scrolled": true,
    "slideshow": {
     "slide_type": "slide"
    }
   },
   "outputs": [],
   "source": [
    "# Get the unique values and their frequencies for categorical columns\n",
    "unique_values_categorical(data)"
   ]
  },
  {
   "cell_type": "code",
   "execution_count": null,
   "id": "b94e487b",
   "metadata": {
    "scrolled": false,
    "slideshow": {
     "slide_type": "slide"
    }
   },
   "outputs": [],
   "source": [
    "# Plot histograms of the numerical columns\n",
    "plot_histograms(data)"
   ]
  },
  {
   "cell_type": "code",
   "execution_count": null,
   "id": "34e60006",
   "metadata": {
    "scrolled": false,
    "slideshow": {
     "slide_type": "slide"
    }
   },
   "outputs": [],
   "source": [
    "# Plot box plots of the numerical columns\n",
    "plot_boxplots(data)"
   ]
  },
  {
   "cell_type": "code",
   "execution_count": null,
   "id": "8cf987c6",
   "metadata": {
    "scrolled": true,
    "slideshow": {
     "slide_type": "slide"
    }
   },
   "outputs": [],
   "source": [
    "# Plot correlation matrix of the numerical columns\n",
    "plot_correlation_matrix(data)"
   ]
  },
  {
   "cell_type": "code",
   "execution_count": null,
   "id": "62173c2c",
   "metadata": {
    "scrolled": false,
    "slideshow": {
     "slide_type": "slide"
    }
   },
   "outputs": [],
   "source": [
    "# Plot scatter plots of the numerical columns against the target variable\n",
    "plot_scatter_plots(data, \"age\")"
   ]
  },
  {
   "cell_type": "code",
   "execution_count": null,
   "id": "14edfaea",
   "metadata": {
    "scrolled": true,
    "slideshow": {
     "slide_type": "skip"
    }
   },
   "outputs": [],
   "source": []
  }
 ],
 "metadata": {
  "celltoolbar": "Slideshow",
  "kernelspec": {
   "display_name": "Python 3 (ipykernel)",
   "language": "python",
   "name": "python3"
  },
  "language_info": {
   "codemirror_mode": {
    "name": "ipython",
    "version": 3
   },
   "file_extension": ".py",
   "mimetype": "text/x-python",
   "name": "python",
   "nbconvert_exporter": "python",
   "pygments_lexer": "ipython3",
   "version": "3.9.16"
  }
 },
 "nbformat": 4,
 "nbformat_minor": 5
}
